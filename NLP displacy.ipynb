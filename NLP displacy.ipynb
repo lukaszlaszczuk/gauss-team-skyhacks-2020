{
 "cells": [
  {
   "cell_type": "code",
   "execution_count": 9,
   "metadata": {},
   "outputs": [],
   "source": [
    "from spacy import displacy\n",
    "import spacy\n"
   ]
  },
  {
   "cell_type": "code",
   "execution_count": 10,
   "metadata": {},
   "outputs": [],
   "source": [
    "nlp = spacy.load(\"pl_core_news_lg\")"
   ]
  },
  {
   "cell_type": "code",
   "execution_count": 4,
   "metadata": {},
   "outputs": [],
   "source": [
    "import json\n",
    "with open('data/opisy.json') as f:\n",
    "    dict_txt = json.load(f)"
   ]
  },
  {
   "cell_type": "code",
   "execution_count": 5,
   "metadata": {},
   "outputs": [],
   "source": [
    "opisy = []\n",
    "for i in range(len(list(dict_txt.keys()))):\n",
    "    all_opis = \"\"\n",
    "    for key, value in dict_txt[list(dict_txt.keys())[i]].items():\n",
    "        all_opis += f' {value}'\n",
    "    if len(all_opis) > 100:\n",
    "        opisy.append(all_opis)"
   ]
  },
  {
   "cell_type": "code",
   "execution_count": 7,
   "metadata": {},
   "outputs": [
    {
     "data": {
      "text/plain": [
       "150"
      ]
     },
     "execution_count": 7,
     "metadata": {},
     "output_type": "execute_result"
    }
   ],
   "source": [
    "len(opisy)"
   ]
  },
  {
   "cell_type": "code",
   "execution_count": 19,
   "metadata": {},
   "outputs": [],
   "source": [
    "a = 5"
   ]
  },
  {
   "cell_type": "code",
   "execution_count": 22,
   "metadata": {},
   "outputs": [
    {
     "data": {
      "text/plain": [
       "'0:05'"
      ]
     },
     "execution_count": 22,
     "metadata": {},
     "output_type": "execute_result"
    }
   ],
   "source": [
    "f'{a//60}:{f\"0{a%60}\" if a%60 < 10 else a%60}'"
   ]
  },
  {
   "cell_type": "code",
   "execution_count": 23,
   "metadata": {},
   "outputs": [],
   "source": [
    "doc = nlp(\"\"\"kościół ewangelicki w Ustroniu protestantyzm w Ustroniu jest\n",
    "stary jak pozostałych miejscowościach Śląska Cieszyńskiego po okresie rozkwitu na\n",
    "16 i 17 przyszedł na nim czas prześladowań zakon\n",
    "patentem tolerancyjnym cesarza Józefa II z 1700\n",
    "do pierwszego roku Wówczas też stanął pierwszy drewniany dom\n",
    "obecny kościół pod wezwaniem Apostoła Jakuba starszego\n",
    "budowano w 1838 roku jest to największa\n",
    "wznieście pod czantorią zwolennicy reformy chrześcijanie\n",
    "nauka Marcina Lutra pojawili się w otoczonej górami dolinie\n",
    "już za czasów księcia Cieszyńskiego Kazimierza drugiego jego wnuk\n",
    "trzeci Adam uczynił luteranizm religią dominującą\n",
    "tata trwała do wiosny 1654 roku kiedy to\n",
    "arcy katolickich Habsburgów przywrócili na całym Śląsku Cieszyn\n",
    "świątynia katolikom odtąd przez lata luteranie musieli wyznawać\n",
    "potajemnie ukrytym miejscem spotkań i nabożeństw\n",
    "Angelika była okolica pod Szczytowa Równicy 883\n",
    "poziomem morza źródeł potoku Gościeradowie znajduje się tak z\n",
    "równicę właściwie są to dwa głazy z wyrytymi wyobrażeniami\n",
    "mojżeszowych oraz kielicha to tutaj gromadzili się wierni tutaj\n",
    "przebywał ksiądz ze Słowacji Sytuacja ta trwała prawdopodobnie do\n",
    "18 wieku kiedy wystawiono kościół jezusowy w Cieszynie\n",
    "wykluczone że przy karmieniu gromadzono się jeszcze w latach późniejszych\n",
    "po wydaniu przez cesarza patentu tolerancyjnego powstał w\n",
    "drewniany dom modlitwy służący około czterystu rodziną\n",
    "murowany kościół Apostoła Jakuba starszego wzniesiono w roku\n",
    "638 żółto właściwie tylko korpus świątyni\n",
    "przepisy nie pozwalały na budowę wieży uniemożliwiły także umieszczenie\n",
    "od głównej ulicy wieże dostawione dopiero poprawię\n",
    "styl w którym zbudowano kościół nawiązuje do klasycyzmu\n",
    "3 podzielone na trzy nawy wyposażenie pochodzi głównie z 19\n",
    "warto zwrócić uwagę na ołtarz z 1883 roku\n",
    "fundowany przez Hutników z Ustronia trzyńca i frytką\n",
    "pszczoła stoją również zabytkowe budynki plebanii szkoły\n",
    "Dębickiego zakładu dobroczynne\n",
    "trzy kopce wiślańskie 810\n",
    "może to malowniczy szczyt w Beskidzie Śląskim roznoszą\n",
    "w paśmie Równicy i orłowej nazwę swą\n",
    "schwytany MTU niegdyś kamiennym kosom które oznaczały zbieg grani\n",
    "Wisły Ustronia i Brennej górę jest\n",
    "Górnikiem kilku grzbietów i przebiegają przez nią liczne szlaki turystyczne\n",
    "deserowe ze szczytu rozciąga się ładna Panorama\n",
    "wędrowców jest działające tutaj schronisko turystyczne telesforówka\n",
    "Ustroń Wisła najpopularniejsze Śląskie miejscowości\n",
    "otoczone są przez malownicze wzniesienia Beskidu Śląskiego\n",
    "zachodu nad wąską doliną Wisły dominuje pasmo Wielkiej\n",
    "nie Wielkiego stożka a od północy niemniej urok\n",
    "prezentuje się pasmo Równicy i orłowej w tym dniu\n",
    "górskim turyści najczęściej odwiedzają właśnie różnice\n",
    "5 m nad poziomem morza ze znanym schroniskiem ptk to\n",
    "udostępniają wygodną są nieco zaś\n",
    "wędrują na szczyty wznoszące się nad centrum Wisły\n",
    "ładniejszych szczytów w okolicy Wisły są trzy kopce wiślańskie\n",
    "Góra tanie wyróżnia się może wysokością mierzy jedynie 8\n",
    "metrów nad poziomem morza w pełni za to ważną funkcję zwornika\n",
    "zbiegają się Grzbiety biegnące z północy z różnicą i orła\n",
    "południa od Przełęczy salmopolskiej przez wieś Smerek\n",
    "oraz zachodu ze szczytem kamiennym i północnego Wschodu\n",
    "zbrodni kiedy po stronie Brennej w okolice pod szczytowe\n",
    "psów są często bezleśne dlatego oferują wspaniałe pa\n",
    "dostrzeżemy stąd między innymi najwyższe w całym deski\n",
    "Skrzyczne 1257 nad poziomem morza\n",
    "głową i równicę czy piramidę wielkiej Czantorii\n",
    "trzy kopce udostępniono turystom poprzez liczne flaki chociaż\n",
    "Wisły dostaniemy się na sam szczyt za znakami żółtymi i to\n",
    "godziny spokojnego marszu Ponadto możemy wędrować na\n",
    "albo polską flagę żółty na równicę szlak niebieski\n",
    "do Brennej szlak zielony turystów zaprasza stojące\n",
    "kopców prywatne schronisko telesforówka\"\"\")"
   ]
  },
  {
   "cell_type": "code",
   "execution_count": 24,
   "metadata": {},
   "outputs": [
    {
     "data": {
      "text/plain": [
       "kościół ewangelicki w Ustroniu protestantyzm w Ustroniu jest\n",
       "stary jak pozostałych miejscowościach Śląska Cieszyńskiego po okresie rozkwitu na\n",
       "16 i 17 przyszedł na nim czas prześladowań zakon\n",
       "patentem tolerancyjnym cesarza Józefa II z 1700\n",
       "do pierwszego roku Wówczas też stanął pierwszy drewniany dom\n",
       "obecny kościół pod wezwaniem Apostoła Jakuba starszego\n",
       "budowano w 1838 roku jest to największa\n",
       "wznieście pod czantorią zwolennicy reformy chrześcijanie\n",
       "nauka Marcina Lutra pojawili się w otoczonej górami dolinie\n",
       "już za czasów księcia Cieszyńskiego Kazimierza drugiego jego wnuk\n",
       "trzeci Adam uczynił luteranizm religią dominującą\n",
       "tata trwała do wiosny 1654 roku kiedy to\n",
       "arcy katolickich Habsburgów przywrócili na całym Śląsku Cieszyn\n",
       "świątynia katolikom odtąd przez lata luteranie musieli wyznawać\n",
       "potajemnie ukrytym miejscem spotkań i nabożeństw\n",
       "Angelika była okolica pod Szczytowa Równicy 883\n",
       "poziomem morza źródeł potoku Gościeradowie znajduje się tak z\n",
       "równicę właściwie są to dwa głazy z wyrytymi wyobrażeniami\n",
       "mojżeszowych oraz kielicha to tutaj gromadzili się wierni tutaj\n",
       "przebywał ksiądz ze Słowacji Sytuacja ta trwała prawdopodobnie do\n",
       "18 wieku kiedy wystawiono kościół jezusowy w Cieszynie\n",
       "wykluczone że przy karmieniu gromadzono się jeszcze w latach późniejszych\n",
       "po wydaniu przez cesarza patentu tolerancyjnego powstał w\n",
       "drewniany dom modlitwy służący około czterystu rodziną\n",
       "murowany kościół Apostoła Jakuba starszego wzniesiono w roku\n",
       "638 żółto właściwie tylko korpus świątyni\n",
       "przepisy nie pozwalały na budowę wieży uniemożliwiły także umieszczenie\n",
       "od głównej ulicy wieże dostawione dopiero poprawię\n",
       "styl w którym zbudowano kościół nawiązuje do klasycyzmu\n",
       "3 podzielone na trzy nawy wyposażenie pochodzi głównie z 19\n",
       "warto zwrócić uwagę na ołtarz z 1883 roku\n",
       "fundowany przez Hutników z Ustronia trzyńca i frytką\n",
       "pszczoła stoją również zabytkowe budynki plebanii szkoły\n",
       "Dębickiego zakładu dobroczynne\n",
       "trzy kopce wiślańskie 810\n",
       "może to malowniczy szczyt w Beskidzie Śląskim roznoszą\n",
       "w paśmie Równicy i orłowej nazwę swą\n",
       "schwytany MTU niegdyś kamiennym kosom które oznaczały zbieg grani\n",
       "Wisły Ustronia i Brennej górę jest\n",
       "Górnikiem kilku grzbietów i przebiegają przez nią liczne szlaki turystyczne\n",
       "deserowe ze szczytu rozciąga się ładna Panorama\n",
       "wędrowców jest działające tutaj schronisko turystyczne telesforówka\n",
       "Ustroń Wisła najpopularniejsze Śląskie miejscowości\n",
       "otoczone są przez malownicze wzniesienia Beskidu Śląskiego\n",
       "zachodu nad wąską doliną Wisły dominuje pasmo Wielkiej\n",
       "nie Wielkiego stożka a od północy niemniej urok\n",
       "prezentuje się pasmo Równicy i orłowej w tym dniu\n",
       "górskim turyści najczęściej odwiedzają właśnie różnice\n",
       "5 m nad poziomem morza ze znanym schroniskiem ptk to\n",
       "udostępniają wygodną są nieco zaś\n",
       "wędrują na szczyty wznoszące się nad centrum Wisły\n",
       "ładniejszych szczytów w okolicy Wisły są trzy kopce wiślańskie\n",
       "Góra tanie wyróżnia się może wysokością mierzy jedynie 8\n",
       "metrów nad poziomem morza w pełni za to ważną funkcję zwornika\n",
       "zbiegają się Grzbiety biegnące z północy z różnicą i orła\n",
       "południa od Przełęczy salmopolskiej przez wieś Smerek\n",
       "oraz zachodu ze szczytem kamiennym i północnego Wschodu\n",
       "zbrodni kiedy po stronie Brennej w okolice pod szczytowe\n",
       "psów są często bezleśne dlatego oferują wspaniałe pa\n",
       "dostrzeżemy stąd między innymi najwyższe w całym deski\n",
       "Skrzyczne 1257 nad poziomem morza\n",
       "głową i równicę czy piramidę wielkiej Czantorii\n",
       "trzy kopce udostępniono turystom poprzez liczne flaki chociaż\n",
       "Wisły dostaniemy się na sam szczyt za znakami żółtymi i to\n",
       "godziny spokojnego marszu Ponadto możemy wędrować na\n",
       "albo polską flagę żółty na równicę szlak niebieski\n",
       "do Brennej szlak zielony turystów zaprasza stojące\n",
       "kopców prywatne schronisko telesforówka"
      ]
     },
     "execution_count": 24,
     "metadata": {},
     "output_type": "execute_result"
    }
   ],
   "source": [
    "doc"
   ]
  },
  {
   "cell_type": "code",
   "execution_count": 25,
   "metadata": {},
   "outputs": [
    {
     "name": "stdout",
     "output_type": "stream",
     "text": [
      "placeName\n",
      "placeName\n",
      "geogName\n",
      "persName\n",
      "date\n",
      "persName\n",
      "date\n",
      "persName\n",
      "persName\n",
      "persName\n",
      "persName\n",
      "date\n",
      "placeName\n",
      "geogName\n",
      "persName\n",
      "geogName\n",
      "placeName\n",
      "placeName\n",
      "date\n",
      "placeName\n",
      "geogName\n",
      "date\n",
      "orgName\n",
      "placeName\n",
      "placeName\n",
      "placeName\n",
      "geogName\n",
      "geogName\n",
      "orgName\n",
      "geogName\n",
      "geogName\n",
      "orgName\n",
      "placeName\n",
      "geogName\n",
      "geogName\n",
      "geogName\n",
      "geogName\n",
      "geogName\n",
      "geogName\n",
      "geogName\n",
      "geogName\n",
      "geogName\n",
      "geogName\n",
      "placeName\n",
      "geogName\n",
      "geogName\n",
      "date\n",
      "geogName\n",
      "geogName\n",
      "placeName\n",
      "geogName\n"
     ]
    }
   ],
   "source": [
    "for e in doc.ents:\n",
    "    print(e.label_)"
   ]
  },
  {
   "cell_type": "code",
   "execution_count": 29,
   "metadata": {
    "scrolled": true
   },
   "outputs": [],
   "source": [
    "html_spacy = displacy.render(doc, style='ent', jupyter=False, page=True)"
   ]
  },
  {
   "cell_type": "code",
   "execution_count": 30,
   "metadata": {},
   "outputs": [
    {
     "data": {
      "text/plain": [
       "'<!DOCTYPE html>\\n<html lang=\"pl\">\\n    <head>\\n        <title>displaCy</title>\\n    </head>\\n\\n    <body style=\"font-size: 16px; font-family: -apple-system, BlinkMacSystemFont, \\'Segoe UI\\', Helvetica, Arial, sans-serif, \\'Apple Color Emoji\\', \\'Segoe UI Emoji\\', \\'Segoe UI Symbol\\'; padding: 4rem 2rem; direction: ltr\">\\n<figure style=\"margin-bottom: 6rem\">\\n<div class=\"entities\" style=\"line-height: 2.5; direction: ltr\">kościół ewangelicki w \\n<mark class=\"entity\" style=\"background: #ddd; padding: 0.45em 0.6em; margin: 0 0.25em; line-height: 1; border-radius: 0.35em;\">\\n    Ustroniu\\n    <span style=\"font-size: 0.8em; font-weight: bold; line-height: 1; border-radius: 0.35em; text-transform: uppercase; vertical-align: middle; margin-left: 0.5rem\">placeName</span>\\n</mark>\\n protestantyzm w \\n<mark class=\"entity\" style=\"background: #ddd; padding: 0.45em 0.6em; margin: 0 0.25em; line-height: 1; border-radius: 0.35em;\">\\n    Ustroniu\\n    <span style=\"font-size: 0.8em; font-weight: bold; line-height: 1; border-radius: 0.35em; text-transform: uppercase; vertical-align: middle; margin-left: 0.5rem\">placeName</span>\\n</mark>\\n jest</br>stary jak pozostałych miejscowościach \\n<mark class=\"entity\" style=\"background: #ddd; padding: 0.45em 0.6em; margin: 0 0.25em; line-height: 1; border-radius: 0.35em;\">\\n    Śląska Cieszyńskiego\\n    <span style=\"font-size: 0.8em; font-weight: bold; line-height: 1; border-radius: 0.35em; text-transform: uppercase; vertical-align: middle; margin-left: 0.5rem\">geogName</span>\\n</mark>\\n po okresie rozkwitu na</br>16 i 17 przyszedł na nim czas prześladowań zakon</br>patentem tolerancyjnym cesarza \\n<mark class=\"entity\" style=\"background: #ddd; padding: 0.45em 0.6em; margin: 0 0.25em; line-height: 1; border-radius: 0.35em;\">\\n    Józefa II\\n    <span style=\"font-size: 0.8em; font-weight: bold; line-height: 1; border-radius: 0.35em; text-transform: uppercase; vertical-align: middle; margin-left: 0.5rem\">persName</span>\\n</mark>\\n z \\n<mark class=\"entity\" style=\"background: #bfe1d9; padding: 0.45em 0.6em; margin: 0 0.25em; line-height: 1; border-radius: 0.35em;\">\\n    1700\\n    <span style=\"font-size: 0.8em; font-weight: bold; line-height: 1; border-radius: 0.35em; text-transform: uppercase; vertical-align: middle; margin-left: 0.5rem\">date</span>\\n</mark>\\n</br>do pierwszego roku Wówczas też stanął pierwszy drewniany dom</br>obecny kościół pod wezwaniem Apostoła \\n<mark class=\"entity\" style=\"background: #ddd; padding: 0.45em 0.6em; margin: 0 0.25em; line-height: 1; border-radius: 0.35em;\">\\n    Jakuba\\n    <span style=\"font-size: 0.8em; font-weight: bold; line-height: 1; border-radius: 0.35em; text-transform: uppercase; vertical-align: middle; margin-left: 0.5rem\">persName</span>\\n</mark>\\n starszego</br>budowano w \\n<mark class=\"entity\" style=\"background: #bfe1d9; padding: 0.45em 0.6em; margin: 0 0.25em; line-height: 1; border-radius: 0.35em;\">\\n    1838 roku\\n    <span style=\"font-size: 0.8em; font-weight: bold; line-height: 1; border-radius: 0.35em; text-transform: uppercase; vertical-align: middle; margin-left: 0.5rem\">date</span>\\n</mark>\\n jest to największa</br>wznieście pod czantorią zwolennicy reformy chrześcijanie</br>nauka \\n<mark class=\"entity\" style=\"background: #ddd; padding: 0.45em 0.6em; margin: 0 0.25em; line-height: 1; border-radius: 0.35em;\">\\n    Marcina Lutra\\n    <span style=\"font-size: 0.8em; font-weight: bold; line-height: 1; border-radius: 0.35em; text-transform: uppercase; vertical-align: middle; margin-left: 0.5rem\">persName</span>\\n</mark>\\n pojawili się w otoczonej górami dolinie</br>już za czasów księcia \\n<mark class=\"entity\" style=\"background: #ddd; padding: 0.45em 0.6em; margin: 0 0.25em; line-height: 1; border-radius: 0.35em;\">\\n    Cieszyńskiego\\n    <span style=\"font-size: 0.8em; font-weight: bold; line-height: 1; border-radius: 0.35em; text-transform: uppercase; vertical-align: middle; margin-left: 0.5rem\">persName</span>\\n</mark>\\n \\n<mark class=\"entity\" style=\"background: #ddd; padding: 0.45em 0.6em; margin: 0 0.25em; line-height: 1; border-radius: 0.35em;\">\\n    Kazimierza\\n    <span style=\"font-size: 0.8em; font-weight: bold; line-height: 1; border-radius: 0.35em; text-transform: uppercase; vertical-align: middle; margin-left: 0.5rem\">persName</span>\\n</mark>\\n drugiego jego wnuk</br>trzeci \\n<mark class=\"entity\" style=\"background: #ddd; padding: 0.45em 0.6em; margin: 0 0.25em; line-height: 1; border-radius: 0.35em;\">\\n    Adam\\n    <span style=\"font-size: 0.8em; font-weight: bold; line-height: 1; border-radius: 0.35em; text-transform: uppercase; vertical-align: middle; margin-left: 0.5rem\">persName</span>\\n</mark>\\n uczynił luteranizm religią dominującą</br>tata trwała do wiosny \\n<mark class=\"entity\" style=\"background: #bfe1d9; padding: 0.45em 0.6em; margin: 0 0.25em; line-height: 1; border-radius: 0.35em;\">\\n    1654 roku\\n    <span style=\"font-size: 0.8em; font-weight: bold; line-height: 1; border-radius: 0.35em; text-transform: uppercase; vertical-align: middle; margin-left: 0.5rem\">date</span>\\n</mark>\\n kiedy to</br>arcy katolickich \\n<mark class=\"entity\" style=\"background: #ddd; padding: 0.45em 0.6em; margin: 0 0.25em; line-height: 1; border-radius: 0.35em;\">\\n    Habsburgów\\n    <span style=\"font-size: 0.8em; font-weight: bold; line-height: 1; border-radius: 0.35em; text-transform: uppercase; vertical-align: middle; margin-left: 0.5rem\">placeName</span>\\n</mark>\\n przywrócili na całym \\n<mark class=\"entity\" style=\"background: #ddd; padding: 0.45em 0.6em; margin: 0 0.25em; line-height: 1; border-radius: 0.35em;\">\\n    Śląsku Cieszyn\\n    <span style=\"font-size: 0.8em; font-weight: bold; line-height: 1; border-radius: 0.35em; text-transform: uppercase; vertical-align: middle; margin-left: 0.5rem\">geogName</span>\\n</mark>\\n</br>świątynia katolikom odtąd przez lata luteranie musieli wyznawać</br>potajemnie ukrytym miejscem spotkań i nabożeństw</br>\\n<mark class=\"entity\" style=\"background: #ddd; padding: 0.45em 0.6em; margin: 0 0.25em; line-height: 1; border-radius: 0.35em;\">\\n    Angelika\\n    <span style=\"font-size: 0.8em; font-weight: bold; line-height: 1; border-radius: 0.35em; text-transform: uppercase; vertical-align: middle; margin-left: 0.5rem\">persName</span>\\n</mark>\\n była okolica pod \\n<mark class=\"entity\" style=\"background: #ddd; padding: 0.45em 0.6em; margin: 0 0.25em; line-height: 1; border-radius: 0.35em;\">\\n    Szczytowa Równicy\\n    <span style=\"font-size: 0.8em; font-weight: bold; line-height: 1; border-radius: 0.35em; text-transform: uppercase; vertical-align: middle; margin-left: 0.5rem\">geogName</span>\\n</mark>\\n 883</br>poziomem morza źródeł potoku \\n<mark class=\"entity\" style=\"background: #ddd; padding: 0.45em 0.6em; margin: 0 0.25em; line-height: 1; border-radius: 0.35em;\">\\n    Gościeradowie\\n    <span style=\"font-size: 0.8em; font-weight: bold; line-height: 1; border-radius: 0.35em; text-transform: uppercase; vertical-align: middle; margin-left: 0.5rem\">placeName</span>\\n</mark>\\n znajduje się tak z</br>równicę właściwie są to dwa głazy z wyrytymi wyobrażeniami</br>mojżeszowych oraz kielicha to tutaj gromadzili się wierni tutaj</br>przebywał ksiądz ze \\n<mark class=\"entity\" style=\"background: #ddd; padding: 0.45em 0.6em; margin: 0 0.25em; line-height: 1; border-radius: 0.35em;\">\\n    Słowacji\\n    <span style=\"font-size: 0.8em; font-weight: bold; line-height: 1; border-radius: 0.35em; text-transform: uppercase; vertical-align: middle; margin-left: 0.5rem\">placeName</span>\\n</mark>\\n Sytuacja ta trwała prawdopodobnie do</br>\\n<mark class=\"entity\" style=\"background: #bfe1d9; padding: 0.45em 0.6em; margin: 0 0.25em; line-height: 1; border-radius: 0.35em;\">\\n    18 wieku\\n    <span style=\"font-size: 0.8em; font-weight: bold; line-height: 1; border-radius: 0.35em; text-transform: uppercase; vertical-align: middle; margin-left: 0.5rem\">date</span>\\n</mark>\\n kiedy wystawiono kościół jezusowy w \\n<mark class=\"entity\" style=\"background: #ddd; padding: 0.45em 0.6em; margin: 0 0.25em; line-height: 1; border-radius: 0.35em;\">\\n    Cieszynie\\n    <span style=\"font-size: 0.8em; font-weight: bold; line-height: 1; border-radius: 0.35em; text-transform: uppercase; vertical-align: middle; margin-left: 0.5rem\">placeName</span>\\n</mark>\\n</br>wykluczone że przy karmieniu gromadzono się jeszcze w latach późniejszych</br>po wydaniu przez cesarza patentu tolerancyjnego powstał w</br>drewniany dom modlitwy służący około czterystu rodziną</br>murowany \\n<mark class=\"entity\" style=\"background: #ddd; padding: 0.45em 0.6em; margin: 0 0.25em; line-height: 1; border-radius: 0.35em;\">\\n    kościół Apostoła\\n    <span style=\"font-size: 0.8em; font-weight: bold; line-height: 1; border-radius: 0.35em; text-transform: uppercase; vertical-align: middle; margin-left: 0.5rem\">geogName</span>\\n</mark>\\n Jakuba starszego wzniesiono w roku</br>638 żółto właściwie tylko korpus świątyni</br>przepisy nie pozwalały na budowę wieży uniemożliwiły także umieszczenie</br>od głównej ulicy wieże dostawione dopiero poprawię</br>styl w którym zbudowano kościół nawiązuje do klasycyzmu</br>3 podzielone na trzy nawy wyposażenie pochodzi głównie z 19</br>warto zwrócić uwagę na ołtarz z \\n<mark class=\"entity\" style=\"background: #bfe1d9; padding: 0.45em 0.6em; margin: 0 0.25em; line-height: 1; border-radius: 0.35em;\">\\n    1883 roku\\n    <span style=\"font-size: 0.8em; font-weight: bold; line-height: 1; border-radius: 0.35em; text-transform: uppercase; vertical-align: middle; margin-left: 0.5rem\">date</span>\\n</mark>\\n</br>fundowany przez \\n<mark class=\"entity\" style=\"background: #ddd; padding: 0.45em 0.6em; margin: 0 0.25em; line-height: 1; border-radius: 0.35em;\">\\n    Hutników\\n    <span style=\"font-size: 0.8em; font-weight: bold; line-height: 1; border-radius: 0.35em; text-transform: uppercase; vertical-align: middle; margin-left: 0.5rem\">orgName</span>\\n</mark>\\n z \\n<mark class=\"entity\" style=\"background: #ddd; padding: 0.45em 0.6em; margin: 0 0.25em; line-height: 1; border-radius: 0.35em;\">\\n    Ustronia\\n    <span style=\"font-size: 0.8em; font-weight: bold; line-height: 1; border-radius: 0.35em; text-transform: uppercase; vertical-align: middle; margin-left: 0.5rem\">placeName</span>\\n</mark>\\n trzyńca i frytką</br>pszczoła stoją również zabytkowe budynki plebanii szkoły</br>\\n<mark class=\"entity\" style=\"background: #ddd; padding: 0.45em 0.6em; margin: 0 0.25em; line-height: 1; border-radius: 0.35em;\">\\n    Dębickiego\\n    <span style=\"font-size: 0.8em; font-weight: bold; line-height: 1; border-radius: 0.35em; text-transform: uppercase; vertical-align: middle; margin-left: 0.5rem\">placeName</span>\\n</mark>\\n zakładu dobroczynne</br>trzy kopce \\n<mark class=\"entity\" style=\"background: #ddd; padding: 0.45em 0.6em; margin: 0 0.25em; line-height: 1; border-radius: 0.35em;\">\\n    wiślańskie\\n    <span style=\"font-size: 0.8em; font-weight: bold; line-height: 1; border-radius: 0.35em; text-transform: uppercase; vertical-align: middle; margin-left: 0.5rem\">placeName</span>\\n</mark>\\n 810</br>może to malowniczy szczyt w \\n<mark class=\"entity\" style=\"background: #ddd; padding: 0.45em 0.6em; margin: 0 0.25em; line-height: 1; border-radius: 0.35em;\">\\n    Beskidzie Śląskim\\n    <span style=\"font-size: 0.8em; font-weight: bold; line-height: 1; border-radius: 0.35em; text-transform: uppercase; vertical-align: middle; margin-left: 0.5rem\">geogName</span>\\n</mark>\\n roznoszą</br>w paśmie \\n<mark class=\"entity\" style=\"background: #ddd; padding: 0.45em 0.6em; margin: 0 0.25em; line-height: 1; border-radius: 0.35em;\">\\n    Równicy\\n    <span style=\"font-size: 0.8em; font-weight: bold; line-height: 1; border-radius: 0.35em; text-transform: uppercase; vertical-align: middle; margin-left: 0.5rem\">geogName</span>\\n</mark>\\n i orłowej nazwę swą</br>schwytany \\n<mark class=\"entity\" style=\"background: #ddd; padding: 0.45em 0.6em; margin: 0 0.25em; line-height: 1; border-radius: 0.35em;\">\\n    MTU\\n    <span style=\"font-size: 0.8em; font-weight: bold; line-height: 1; border-radius: 0.35em; text-transform: uppercase; vertical-align: middle; margin-left: 0.5rem\">orgName</span>\\n</mark>\\n niegdyś kamiennym kosom które oznaczały zbieg grani</br>\\n<mark class=\"entity\" style=\"background: #ddd; padding: 0.45em 0.6em; margin: 0 0.25em; line-height: 1; border-radius: 0.35em;\">\\n    Wisły Ustronia\\n    <span style=\"font-size: 0.8em; font-weight: bold; line-height: 1; border-radius: 0.35em; text-transform: uppercase; vertical-align: middle; margin-left: 0.5rem\">geogName</span>\\n</mark>\\n i \\n<mark class=\"entity\" style=\"background: #ddd; padding: 0.45em 0.6em; margin: 0 0.25em; line-height: 1; border-radius: 0.35em;\">\\n    Brennej\\n    <span style=\"font-size: 0.8em; font-weight: bold; line-height: 1; border-radius: 0.35em; text-transform: uppercase; vertical-align: middle; margin-left: 0.5rem\">geogName</span>\\n</mark>\\n górę jest</br>\\n<mark class=\"entity\" style=\"background: #ddd; padding: 0.45em 0.6em; margin: 0 0.25em; line-height: 1; border-radius: 0.35em;\">\\n    Górnikiem\\n    <span style=\"font-size: 0.8em; font-weight: bold; line-height: 1; border-radius: 0.35em; text-transform: uppercase; vertical-align: middle; margin-left: 0.5rem\">orgName</span>\\n</mark>\\n kilku grzbietów i przebiegają przez nią liczne szlaki turystyczne</br>deserowe ze szczytu rozciąga się ładna Panorama</br>wędrowców jest działające tutaj schronisko turystyczne telesforówka</br>\\n<mark class=\"entity\" style=\"background: #ddd; padding: 0.45em 0.6em; margin: 0 0.25em; line-height: 1; border-radius: 0.35em;\">\\n    Ustroń Wisła\\n    <span style=\"font-size: 0.8em; font-weight: bold; line-height: 1; border-radius: 0.35em; text-transform: uppercase; vertical-align: middle; margin-left: 0.5rem\">placeName</span>\\n</mark>\\n najpopularniejsze \\n<mark class=\"entity\" style=\"background: #ddd; padding: 0.45em 0.6em; margin: 0 0.25em; line-height: 1; border-radius: 0.35em;\">\\n    Śląskie\\n    <span style=\"font-size: 0.8em; font-weight: bold; line-height: 1; border-radius: 0.35em; text-transform: uppercase; vertical-align: middle; margin-left: 0.5rem\">geogName</span>\\n</mark>\\n miejscowości</br>otoczone są przez malownicze wzniesienia \\n<mark class=\"entity\" style=\"background: #ddd; padding: 0.45em 0.6em; margin: 0 0.25em; line-height: 1; border-radius: 0.35em;\">\\n    Beskidu Śląskiego\\n    <span style=\"font-size: 0.8em; font-weight: bold; line-height: 1; border-radius: 0.35em; text-transform: uppercase; vertical-align: middle; margin-left: 0.5rem\">geogName</span>\\n</mark>\\n</br>zachodu nad wąską doliną \\n<mark class=\"entity\" style=\"background: #ddd; padding: 0.45em 0.6em; margin: 0 0.25em; line-height: 1; border-radius: 0.35em;\">\\n    Wisły\\n    <span style=\"font-size: 0.8em; font-weight: bold; line-height: 1; border-radius: 0.35em; text-transform: uppercase; vertical-align: middle; margin-left: 0.5rem\">geogName</span>\\n</mark>\\n dominuje pasmo \\n<mark class=\"entity\" style=\"background: #ddd; padding: 0.45em 0.6em; margin: 0 0.25em; line-height: 1; border-radius: 0.35em;\">\\n    Wielkiej\\n    <span style=\"font-size: 0.8em; font-weight: bold; line-height: 1; border-radius: 0.35em; text-transform: uppercase; vertical-align: middle; margin-left: 0.5rem\">geogName</span>\\n</mark>\\n</br>nie Wielkiego stożka a od północy niemniej urok</br>prezentuje się pasmo \\n<mark class=\"entity\" style=\"background: #ddd; padding: 0.45em 0.6em; margin: 0 0.25em; line-height: 1; border-radius: 0.35em;\">\\n    Równicy\\n    <span style=\"font-size: 0.8em; font-weight: bold; line-height: 1; border-radius: 0.35em; text-transform: uppercase; vertical-align: middle; margin-left: 0.5rem\">geogName</span>\\n</mark>\\n i orłowej w tym dniu</br>górskim turyści najczęściej odwiedzają właśnie różnice</br>5 m nad poziomem morza ze znanym schroniskiem ptk to</br>udostępniają wygodną są nieco zaś</br>wędrują na szczyty wznoszące się nad centrum \\n<mark class=\"entity\" style=\"background: #ddd; padding: 0.45em 0.6em; margin: 0 0.25em; line-height: 1; border-radius: 0.35em;\">\\n    Wisły\\n    <span style=\"font-size: 0.8em; font-weight: bold; line-height: 1; border-radius: 0.35em; text-transform: uppercase; vertical-align: middle; margin-left: 0.5rem\">geogName</span>\\n</mark>\\n</br>ładniejszych szczytów w okolicy \\n<mark class=\"entity\" style=\"background: #ddd; padding: 0.45em 0.6em; margin: 0 0.25em; line-height: 1; border-radius: 0.35em;\">\\n    Wisły\\n    <span style=\"font-size: 0.8em; font-weight: bold; line-height: 1; border-radius: 0.35em; text-transform: uppercase; vertical-align: middle; margin-left: 0.5rem\">geogName</span>\\n</mark>\\n są trzy kopce wiślańskie</br>\\n<mark class=\"entity\" style=\"background: #ddd; padding: 0.45em 0.6em; margin: 0 0.25em; line-height: 1; border-radius: 0.35em;\">\\n    Góra\\n    <span style=\"font-size: 0.8em; font-weight: bold; line-height: 1; border-radius: 0.35em; text-transform: uppercase; vertical-align: middle; margin-left: 0.5rem\">geogName</span>\\n</mark>\\n tanie wyróżnia się może wysokością mierzy jedynie 8</br>metrów nad poziomem morza w pełni za to ważną funkcję zwornika</br>zbiegają się \\n<mark class=\"entity\" style=\"background: #ddd; padding: 0.45em 0.6em; margin: 0 0.25em; line-height: 1; border-radius: 0.35em;\">\\n    Grzbiety\\n    <span style=\"font-size: 0.8em; font-weight: bold; line-height: 1; border-radius: 0.35em; text-transform: uppercase; vertical-align: middle; margin-left: 0.5rem\">geogName</span>\\n</mark>\\n biegnące z północy z różnicą i orła</br>południa od \\n<mark class=\"entity\" style=\"background: #ddd; padding: 0.45em 0.6em; margin: 0 0.25em; line-height: 1; border-radius: 0.35em;\">\\n    Przełęczy salmopolskiej\\n    <span style=\"font-size: 0.8em; font-weight: bold; line-height: 1; border-radius: 0.35em; text-transform: uppercase; vertical-align: middle; margin-left: 0.5rem\">geogName</span>\\n</mark>\\n przez wieś \\n<mark class=\"entity\" style=\"background: #ddd; padding: 0.45em 0.6em; margin: 0 0.25em; line-height: 1; border-radius: 0.35em;\">\\n    Smerek\\n    <span style=\"font-size: 0.8em; font-weight: bold; line-height: 1; border-radius: 0.35em; text-transform: uppercase; vertical-align: middle; margin-left: 0.5rem\">placeName</span>\\n</mark>\\n</br>oraz zachodu ze szczytem kamiennym i północnego \\n<mark class=\"entity\" style=\"background: #ddd; padding: 0.45em 0.6em; margin: 0 0.25em; line-height: 1; border-radius: 0.35em;\">\\n    Wschodu\\n    <span style=\"font-size: 0.8em; font-weight: bold; line-height: 1; border-radius: 0.35em; text-transform: uppercase; vertical-align: middle; margin-left: 0.5rem\">geogName</span>\\n</mark>\\n</br>zbrodni kiedy po stronie \\n<mark class=\"entity\" style=\"background: #ddd; padding: 0.45em 0.6em; margin: 0 0.25em; line-height: 1; border-radius: 0.35em;\">\\n    Brennej\\n    <span style=\"font-size: 0.8em; font-weight: bold; line-height: 1; border-radius: 0.35em; text-transform: uppercase; vertical-align: middle; margin-left: 0.5rem\">geogName</span>\\n</mark>\\n w okolice pod szczytowe</br>psów są często bezleśne dlatego oferują wspaniałe pa</br>dostrzeżemy stąd między innymi najwyższe w całym deski</br>Skrzyczne \\n<mark class=\"entity\" style=\"background: #bfe1d9; padding: 0.45em 0.6em; margin: 0 0.25em; line-height: 1; border-radius: 0.35em;\">\\n    1257\\n    <span style=\"font-size: 0.8em; font-weight: bold; line-height: 1; border-radius: 0.35em; text-transform: uppercase; vertical-align: middle; margin-left: 0.5rem\">date</span>\\n</mark>\\n nad poziomem morza</br>głową i równicę czy piramidę wielkiej \\n<mark class=\"entity\" style=\"background: #ddd; padding: 0.45em 0.6em; margin: 0 0.25em; line-height: 1; border-radius: 0.35em;\">\\n    Czantorii\\n    <span style=\"font-size: 0.8em; font-weight: bold; line-height: 1; border-radius: 0.35em; text-transform: uppercase; vertical-align: middle; margin-left: 0.5rem\">geogName</span>\\n</mark>\\n</br>trzy kopce udostępniono turystom poprzez liczne flaki chociaż</br>\\n<mark class=\"entity\" style=\"background: #ddd; padding: 0.45em 0.6em; margin: 0 0.25em; line-height: 1; border-radius: 0.35em;\">\\n    Wisły\\n    <span style=\"font-size: 0.8em; font-weight: bold; line-height: 1; border-radius: 0.35em; text-transform: uppercase; vertical-align: middle; margin-left: 0.5rem\">geogName</span>\\n</mark>\\n dostaniemy się na sam szczyt za znakami żółtymi i to</br>godziny spokojnego marszu Ponadto możemy wędrować na</br>albo \\n<mark class=\"entity\" style=\"background: #ddd; padding: 0.45em 0.6em; margin: 0 0.25em; line-height: 1; border-radius: 0.35em;\">\\n    polską\\n    <span style=\"font-size: 0.8em; font-weight: bold; line-height: 1; border-radius: 0.35em; text-transform: uppercase; vertical-align: middle; margin-left: 0.5rem\">placeName</span>\\n</mark>\\n flagę żółty na równicę szlak niebieski</br>do \\n<mark class=\"entity\" style=\"background: #ddd; padding: 0.45em 0.6em; margin: 0 0.25em; line-height: 1; border-radius: 0.35em;\">\\n    Brennej\\n    <span style=\"font-size: 0.8em; font-weight: bold; line-height: 1; border-radius: 0.35em; text-transform: uppercase; vertical-align: middle; margin-left: 0.5rem\">geogName</span>\\n</mark>\\n szlak zielony turystów zaprasza stojące\\nkopców prywatne schronisko telesforówka</div>\\n</figure>\\n</body>\\n</html>'"
      ]
     },
     "execution_count": 30,
     "metadata": {},
     "output_type": "execute_result"
    }
   ],
   "source": [
    "html_spacy"
   ]
  },
  {
   "cell_type": "code",
   "execution_count": 16,
   "metadata": {},
   "outputs": [
    {
     "data": {
      "text/plain": [
       "(Zagłębie Dąbrowskie,\n",
       " Mazury Pojezierze,\n",
       " Dąbrowie Górniczej,\n",
       " Pogorii Pogoria,\n",
       " Rekreacji,\n",
       " Pogoria,\n",
       " Pojezierze Dąbrowskie,\n",
       " zagłębiowskiej,\n",
       " Dąbrowy Górniczej,\n",
       " Pogorii,\n",
       " Jezioro Pogoria,\n",
       " 1943 roku,\n",
       " PRL,\n",
       " Zagłębia,\n",
       " Pogoria,\n",
       " 1 950 roku,\n",
       " Pogorii,\n",
       " Waldemar Marszałek,\n",
       " Pogoria,\n",
       " Pingu,\n",
       " Stanica Wodna Jeziory No,\n",
       " 21 wieku,\n",
       " Kuźnica Warężyńska,\n",
       " Pojezierze Dąbrowskie)"
      ]
     },
     "execution_count": 16,
     "metadata": {},
     "output_type": "execute_result"
    }
   ],
   "source": [
    "doc.ents, doc."
   ]
  },
  {
   "cell_type": "code",
   "execution_count": null,
   "metadata": {},
   "outputs": [],
   "source": []
  }
 ],
 "metadata": {
  "kernelspec": {
   "display_name": "data_science",
   "language": "python",
   "name": "data_science"
  },
  "language_info": {
   "codemirror_mode": {
    "name": "ipython",
    "version": 3
   },
   "file_extension": ".py",
   "mimetype": "text/x-python",
   "name": "python",
   "nbconvert_exporter": "python",
   "pygments_lexer": "ipython3",
   "version": "3.8.3"
  }
 },
 "nbformat": 4,
 "nbformat_minor": 4
}
