{
 "cells": [
  {
   "cell_type": "code",
   "execution_count": null,
   "metadata": {},
   "outputs": [],
   "source": [
    "def final_results(pred1, pred2):\n",
    "    result = np.empty([pred1.shape[0], pred1.shape[1]+pred2.shape[1]])\n",
    "    for i in range(pred1.shape[0]):\n",
    "        result[i,[0,3,4,5,6,7,9,12,14,15,16,17,18,21,22,23,24,27,31,32,33,36]] = pred1[i]\n",
    "        result[i,[1,2,8,10,11,13,19,20,25,26,28,29,30,34,35,37]]\n",
    "    return result"
   ]
  },
  {
   "cell_type": "code",
   "execution_count": null,
   "metadata": {},
   "outputs": [],
   "source": [
    "def to_csv(results, colheaders, index):\n",
    "    result = pd.dataframe(results, colnames = colheaders, index = index)\n",
    "    result.to_csv('submision.csv', index = True)"
   ]
  }
 ],
 "metadata": {
  "kernelspec": {
   "display_name": "Python 3",
   "language": "python",
   "name": "python3"
  },
  "language_info": {
   "codemirror_mode": {
    "name": "ipython",
    "version": 3
   },
   "file_extension": ".py",
   "mimetype": "text/x-python",
   "name": "python",
   "nbconvert_exporter": "python",
   "pygments_lexer": "ipython3",
   "version": "3.7.3"
  }
 },
 "nbformat": 4,
 "nbformat_minor": 2
}
